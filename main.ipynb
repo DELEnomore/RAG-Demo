{
 "cells": [
  {
   "metadata": {},
   "cell_type": "code",
   "source": [
    "from langchain_community.document_loaders import PyPDFLoader\n",
    "from langchain_chroma import Chroma\n",
    "from langchain_community.chat_models.tongyi import ChatTongyi\n",
    "from langchain_core.messages import HumanMessage\n",
    "from langchain.chains.retrieval_qa.base import RetrievalQA\n",
    "from langchain_text_splitters import RecursiveCharacterTextSplitter\n",
    "from langchain_ollama import OllamaEmbeddings\n",
    "\n",
    "import logging\n",
    "import os\n",
    "\n",
    "os.environ[\"DASHSCOPE_API_KEY\"] = ''\n",
    "logging.basicConfig(level=logging.INFO)"
   ],
   "id": "62d2e68818035228",
   "outputs": [],
   "execution_count": null
  },
  {
   "metadata": {},
   "cell_type": "code",
   "source": [
    "\n",
    "embeddings = embeddings = OllamaEmbeddings(model=\"nomic-embed-text\")\n",
    "persist_directory = \"./chroma_db\"\n",
    "chroma_db = Chroma(\n",
    "    embedding_function=embeddings,\n",
    "    persist_directory=persist_directory\n",
    ")\n",
    "logging.info('vectorstore created')"
   ],
   "id": "8ef3795baff0e910",
   "outputs": [],
   "execution_count": null
  },
  {
   "metadata": {},
   "cell_type": "code",
   "source": [
    "# 添加文档到向量数据库\n",
    "loader = PyPDFLoader(\"docs/DeepSeek-V2.pdf\")\n",
    "documents = loader.load()\n",
    "logging.info(f\"加载 {len(documents)} 个文档\")\n",
    "text_splitter = RecursiveCharacterTextSplitter(chunk_size=500, chunk_overlap=50)\n",
    "split_docs = text_splitter.split_documents(documents)\n",
    "logging.info(f\"文档共分割为 {len(split_docs)} 块\")\n",
    "chroma_db.add_documents(documents=split_docs)"
   ],
   "id": "b9f57d932ac836ee",
   "outputs": [],
   "execution_count": null
  },
  {
   "metadata": {},
   "cell_type": "code",
   "source": [
    "llm = ChatTongyi(streaming=True, model='qwen3-1.7b')\n",
    "res = llm.invoke(\"解释一下DeepSeek-MOE架构\", streaming=True)\n",
    "print(res.content)"
   ],
   "id": "f683434d8de7fed7",
   "outputs": [],
   "execution_count": null
  },
  {
   "metadata": {},
   "cell_type": "code",
   "source": [
    "# 示例查询\n",
    "\n",
    "\n",
    "rag_chain = RetrievalQA.from_chain_type(\n",
    "    llm=llm,\n",
    "    chain_type=\"stuff\",            # 直接合并上下文\n",
    "    retriever=chroma_db.as_retriever(),  # 使用ChromaDB检索器\n",
    "    return_source_documents=True   # 返回源文档\n",
    ")\n",
    "# 执行RAG查询\n",
    "result = rag_chain.invoke(\"解释一下DeepSeek-MOE架构\")\n",
    "print(result['result'])\n",
    "print('\\n--------------------------------------------------refered documents:--------------------------------------------------\\n')\n",
    "for doc in result['source_documents']:\n",
    "    print(doc.page_content)\n",
    "    print('--------------------------------------------------\\n')"
   ],
   "id": "39ede0d0398e5b3a",
   "outputs": [],
   "execution_count": null
  }
 ],
 "metadata": {
  "kernelspec": {
   "display_name": "Python 3",
   "language": "python",
   "name": "python3"
  },
  "language_info": {
   "codemirror_mode": {
    "name": "ipython",
    "version": 2
   },
   "file_extension": ".py",
   "mimetype": "text/x-python",
   "name": "python",
   "nbconvert_exporter": "python",
   "pygments_lexer": "ipython2",
   "version": "2.7.6"
  }
 },
 "nbformat": 4,
 "nbformat_minor": 5
}
